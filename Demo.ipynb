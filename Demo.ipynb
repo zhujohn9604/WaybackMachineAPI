{
 "cells": [
  {
   "cell_type": "code",
   "execution_count": 1,
   "metadata": {},
   "outputs": [],
   "source": [
    "import pandas as pd\n",
    "from get_historical_web_content_by_WayBackMachineAPI import get_Webs\n",
    "\n",
    "data = pd.DataFrame({\n",
    "        'Organization_Name': ['Salt Security'],\n",
    "        'endPeriod_Date': ['2020-6-16'], # date of getting Series A\n",
    "        'Founded_Date': ['2016-01-01'], # founded date\n",
    "        'Website': ['https://salt.security'],\n",
    "        'outcome': [1] # received Series A or not\n",
    "        })"
   ]
  },
  {
   "cell_type": "code",
   "execution_count": 2,
   "metadata": {},
   "outputs": [
    {
     "name": "stdout",
     "output_type": "stream",
     "text": [
      "2016-01-01 00:00:00\n",
      "2020-06-16 00:00:00\n"
     ]
    },
    {
     "name": "stderr",
     "output_type": "stream",
     "text": [
      "100%|██████████| 97/97 [01:05<00:00,  1.49it/s]\n"
     ]
    }
   ],
   "source": [
    "for ind, row in data.iterrows():\n",
    "    try:\n",
    "        hist_web_content = get_Webs(row)\n",
    "        hist_web_content.to_csv('hist_web_content.csv', index=False)\n",
    "    except:\n",
    "        pass\n",
    "\n"
   ]
  }
 ],
 "metadata": {
  "kernelspec": {
   "display_name": "Python 3",
   "language": "python",
   "name": "python3"
  },
  "language_info": {
   "codemirror_mode": {
    "name": "ipython",
    "version": 3
   },
   "file_extension": ".py",
   "mimetype": "text/x-python",
   "name": "python",
   "nbconvert_exporter": "python",
   "pygments_lexer": "ipython3",
   "version": "3.8.5"
  }
 },
 "nbformat": 4,
 "nbformat_minor": 4
}
